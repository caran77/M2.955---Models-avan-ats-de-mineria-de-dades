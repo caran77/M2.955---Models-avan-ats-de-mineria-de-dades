{
 "cells": [
  {
   "cell_type": "markdown",
   "metadata": {},
   "source": [
    "<div style=\"width: 100%; clear: both;\">\n",
    "<div style=\"float: left; width: 50%;\">\n",
    "<img src=\"http://www.uoc.edu/portal/_resources/common/imatges/marca_UOC/UOC_Masterbrand.jpg\", align=\"left\">\n",
    "</div>\n",
    "<div style=\"float: right; width: 50%;\">\n",
    "<p style=\"margin: 0; padding-top: 22px; text-align:right;\">M2.955 · Models avançats en mineria de dades · PAC2</p>\n",
    "<p style=\"margin: 0; text-align:right;\">2019-1 · Màster universitari en Ciència de dades (Data science)</p>\n",
    "<p style=\"margin: 0; text-align:right; padding-button: 100px;\">Estudis d'Informàtica, Multimèdia i Telecomunicació</p>\n",
    "</div>\n",
    "</div>\n",
    "<div style=\"width:100%;\">&nbsp;</div>\n",
    "\n",
    "\n",
    "# PAC 2: Mètodes no supervisats\n",
    "\n",
    "\n",
    "**Important: l'entrega s'ha de fer en format notebook (.ipynb) i en format (.html) on es vegi el codi i els resultats i comentaris de cada exercici. Per a exportar el notebook a html es pot fer des del menú File  →  Download as  →  HTML.**\n",
    "\n",
    "\n",
    "Al llarg d'aquesta pràctica veurem com aplicar diferents tècniques no supervisades, així com algunes de les seves aplicacions reals:\n",
    "\n",
    " 1. **Clustering clàssic**: k-means i la regla del colze.\n",
    " - **Clustering amb formes i feature engineering**.\n",
    " - **Optimització amb reducció de dimensionalitat**: t-SNE.\n",
    " - **Aplicació**: agrupació de documents.\n",
    "   \n",
    "Per a això necessitarem les següents llibreries:"
   ]
  },
  {
   "cell_type": "code",
   "execution_count": 52,
   "metadata": {
    "collapsed": true
   },
   "outputs": [],
   "source": [
    "import random\n",
    "\n",
    "import numpy as np\n",
    "import pandas as pd\n",
    "from sklearn import cluster      # Algoritmes de clustering.\n",
    "from sklearn import datasets     # Crear datasets.\n",
    "from sklearn import manifold     # Algoritmes de reducció de dimensionalitat.\n",
    "\n",
    "# Visualització.\n",
    "import matplotlib.pyplot as plt\n",
    "import seaborn as sns\n",
    "\n",
    "%matplotlib inline"
   ]
  },
  {
   "cell_type": "markdown",
   "metadata": {},
   "source": [
    "## 1. Clustering clàssic: k-means i la regla del colze (2 punts)\n",
    "\n",
    "Partirem d'un conjunt de dades de clients en un negoci *retail* qualsevol (que trobareu en el fitxer *pec2_1.p* amb un *DataFrame* de *pandas* en format *pickle*, o en el *pec2_1.csv* en format *CSV*).\n",
    "\n",
    "Per cada client es tenen 3 variables:\n",
    " - **n_days_per_week**: freqüència d'assistència a la tenda a la setmana\n",
    " - **n_month_purchases**: nombre de compres al mes.\n",
    " - **avg_month_turnover**: despesa mitjana d'un client al mes.\n",
    " \n",
    "Primer es demana visualitzar les variables per entendre com están distribuïdes i preprocessar-les per aplicar un *k-means*."
   ]
  },
  {
   "cell_type": "markdown",
   "metadata": {},
   "source": [
    "<div style=\"background-color: #EDF7FF; border-color: #7C9DBF; border-left: 5px solid #7C9DBF; padding: 0.5em;\">\n",
    "<strong>Implementació:</strong> Visualitzar i preprocessar les variables.  \n",
    "</div>"
   ]
  },
  {
   "cell_type": "code",
   "execution_count": null,
   "metadata": {
    "collapsed": true
   },
   "outputs": [],
   "source": []
  },
  {
   "cell_type": "markdown",
   "metadata": {},
   "source": [
    "Es demana estimar el nombre de clústers a detectar per *k-means*. Una tècnica per estimar $k$ és, com s'explica a la teoria:\n",
    "> Els criteris anteriors (minimització de distàncies intra grup o maximització de distàncies inter grup) poden usar-se per establir un valor adequat per al paràmetre k. Valors k per als quals ja no s'aconsegueixen millores significatives en l'homogeneïtat interna dels segments o l'heterogeneïtat entre segments diferents, haurien de descartar-se.\n",
    "\n",
    "El que popularment es coneix com *regla del colze*.\n",
    "\n",
    "Primer cal calcular la suma dels errors quadràtics ([*SSE*](https://bl.ocks.org/rpgove/0060ff3b656618e9136b)) que consisteix en la suma de tots els errors (distància de cada punt al seu centroide assignat) al quadrat.\n",
    "\n",
    "$$SSE = \\sum_{i=1}^{K} \\sum_{x \\in C_i} euclidean(x, c_i)^2$$\n",
    "\n",
    "On $K$ és el nombre de clústers a buscar per *k-means*, $x \\in C_i$ són els punts que pertanyen a l'i-èsim clúster, $c_i $ és el centroide del clúster $C_i$ (al que pertany el punt $x$), i $euclidean$ és la [distància euclidiana](https://en.wikipedia.org/wiki/Euclidean_distance).\n",
    "\n",
    "Aquest procediment realitzat per a cada possible valor $k$, resulta en una funció monòtona decreixent on l'eix $x$ representa els diferents valors de $k$, i l'eix $i$ el $SSE$. Intuïtivament es podrà observar un significatiu descens de l'error, que indicarà el valor idoni de $ k $.\n",
    "\n",
    "**Es demana realitzar la representació gràfica de la regla del colze amb la seva interpretació, utilitzant la llibreria `` `matplotlib``` i la implementació en scikit-learn de [*k-means*](http://scikit-learn.org/stable/modules/generated/sklearn.cluster.KMeans.html).**"
   ]
  },
  {
   "cell_type": "markdown",
   "metadata": {},
   "source": [
    "<div style=\"background-color: #EDF7FF; border-color: #7C9DBF; border-left: 5px solid #7C9DBF; padding: 0.5em;\">\n",
    "<strong>Implementació:</strong> càlcul i visualització de la regla del colze.  \n",
    "</div>"
   ]
  },
  {
   "cell_type": "code",
   "execution_count": null,
   "metadata": {
    "collapsed": true
   },
   "outputs": [],
   "source": []
  },
  {
   "cell_type": "markdown",
   "metadata": {},
   "source": [
    "<div style=\"background-color: #EDF7FF; border-color: #7C9DBF; border-left: 5px solid #7C9DBF; padding: 0.5em;\">\n",
    "<strong>Anàlisi:</strong> ¿Què s'interpreta a la gráfica? ¿Com podria millorar-se l'elecció de $k$?.  \n",
    "</div>"
   ]
  },
  {
   "cell_type": "code",
   "execution_count": null,
   "metadata": {
    "collapsed": true
   },
   "outputs": [],
   "source": []
  },
  {
   "cell_type": "markdown",
   "metadata": {},
   "source": [
    "<div style=\"background-color: #EDF7FF; border-color: #7C9DBF; border-left: 5px solid #7C9DBF; padding: 0.5em;\">\n",
    "<strong>Anàlisi:</strong> Observant els centroides de cada clúster, quins tipus d'usuaris descriuen cada clúster?\n",
    "</div>"
   ]
  },
  {
   "cell_type": "code",
   "execution_count": null,
   "metadata": {
    "collapsed": true
   },
   "outputs": [],
   "source": []
  },
  {
   "cell_type": "markdown",
   "metadata": {},
   "source": [
    "<div style=\"background-color: #EDF7FF; border-color: #7C9DBF; border-left: 5px solid #7C9DBF; padding: 0.5em;\">\n",
    "<strong>[OPCIONAL] Implementació:</strong> visualitza el conjunt de dades en 3 dimensions, on els punts del mateix color pertanyen al mateix clúster. \n",
    "</div>"
   ]
  },
  {
   "cell_type": "code",
   "execution_count": null,
   "metadata": {
    "collapsed": true
   },
   "outputs": [],
   "source": []
  },
  {
   "cell_type": "markdown",
   "metadata": {},
   "source": [
    "De forma **optativa** es planteja **realitzar l'apartat anterior amb una implementació pròpia de l'algorisme * k-means***."
   ]
  },
  {
   "cell_type": "markdown",
   "metadata": {},
   "source": [
    "<div style=\"background-color: #EDF7FF; border-color: #7C9DBF; border-left: 5px solid #7C9DBF; padding: 0.5em;\">\n",
    "<strong>[OPCIONAL] Implementació:</strong> algorisme <i>k-means</i> de zero.  \n",
    "</div>"
   ]
  },
  {
   "cell_type": "code",
   "execution_count": null,
   "metadata": {
    "collapsed": true
   },
   "outputs": [],
   "source": []
  },
  {
   "cell_type": "markdown",
   "metadata": {},
   "source": [
    "En aquest cas, amb 2 dimensions, és molt senzill inferir el nombre de clústers visualitzant les dades. Però aquest mètode és de gran utilitat quan es compta amb dades d'alta dimensionalitat."
   ]
  },
  {
   "cell_type": "markdown",
   "metadata": {},
   "source": [
    "## 2. Clustering amb formes i feature engineering (4 punts)\n",
    "\n",
    "Però no tots els conjunts de dades són com els de l'exercici anterior. Per a aquesta segona part emprarem el següent conjunt de dades:"
   ]
  },
  {
   "cell_type": "code",
   "execution_count": 23,
   "metadata": {},
   "outputs": [],
   "source": [
    "data_circles = ('circles', *datasets.make_circles(n_samples=1000, factor=.5, noise=.05))"
   ]
  },
  {
   "cell_type": "markdown",
   "metadata": {},
   "source": [
    "On *data_circles* és una tupla amb tres posicions: el nom del conjunt de dades i els dos valors retornats per la funció que genera el conjunt de dades:"
   ]
  },
  {
   "cell_type": "code",
   "execution_count": 24,
   "metadata": {
    "collapsed": true
   },
   "outputs": [],
   "source": [
    "datasets.make_circles?"
   ]
  },
  {
   "cell_type": "code",
   "execution_count": 25,
   "metadata": {
    "scrolled": false
   },
   "outputs": [
    {
     "data": {
      "image/png": "[encoded data removed]",
      "text/plain": [
       "<matplotlib.figure.Figure at 0x7f17ed515a20>"
      ]
     },
     "metadata": {},
     "output_type": "display_data"
    }
   ],
   "source": [
    "fig, ax = plt.subplots(1, 1, figsize=(5, 5))\n",
    "ax.scatter(data_circles[1][:,0], data_circles[1][:,1], c=data_circles[2], s=2)\n",
    "ax.set_title('Dataset {}'.format(data_circles[0]))\n",
    "plt.tight_layout()"
   ]
  },
  {
   "cell_type": "markdown",
   "metadata": {},
   "source": [
    "### 2 a. Trobant els clústers amb *k-means*"
   ]
  },
  {
   "cell_type": "markdown",
   "metadata": {},
   "source": [
    "<div style=\"background-color: #EDF7FF; border-color: #7C9DBF; border-left: 5px solid #7C9DBF; padding: 0.5em;\">\n",
    "<strong>Implementació:</strong> aplica la regla del colze per decidir el valor de $k$.\n",
    "</div>"
   ]
  },
  {
   "cell_type": "code",
   "execution_count": null,
   "metadata": {
    "collapsed": true
   },
   "outputs": [],
   "source": []
  },
  {
   "cell_type": "markdown",
   "metadata": {},
   "source": [
    "<div style=\"background-color: #EDF7FF; border-color: #7C9DBF; border-left: 5px solid #7C9DBF; padding: 0.5em;\">\n",
    "<strong>Implementació:</strong> aplica <i>k-means</i> amb el valor de $k$ escollit.\n",
    "<br>\n",
    "Visualitza el resultat en un <i>scatter plot</i> representant cada clúster amb un color distintiu.\n",
    "</div>"
   ]
  },
  {
   "cell_type": "code",
   "execution_count": null,
   "metadata": {
    "collapsed": true
   },
   "outputs": [],
   "source": []
  },
  {
   "cell_type": "markdown",
   "metadata": {},
   "source": [
    "<div style=\"background-color: #EDF7FF; border-color: #7C9DBF; border-left: 5px solid #7C9DBF; padding: 0.5em;\">\n",
    "<strong>Anàlisi: </strong> Què ha passat? Explica els motius pels quals creus que s'ha produït aquest resultat.\n",
    "</div>"
   ]
  },
  {
   "cell_type": "code",
   "execution_count": null,
   "metadata": {
    "collapsed": true
   },
   "outputs": [],
   "source": []
  },
  {
   "cell_type": "markdown",
   "metadata": {},
   "source": [
    "### 2 b. Més enllà de K-Means: algorismes basats en densitat\n",
    "\n",
    "En aquest apartat es demana aplicar clustering per densitat com [DBSCAN](https://en.wikipedia.org/wiki/DBSCAN) al conjunt de dades anterior per a poder trobar els dos clústers inicials.\n",
    "\n",
    "<br>\n",
    "<div style=\"background-color: #EDF7FF; border-color: #7C9DBF; border-left: 5px solid #7C9DBF; padding: 0.5em;\">\n",
    "<strong> Implementació: </strong> prova la implementació de <a href=\"http://scikit-learn.org/stable/modules/generated/sklearn.cluster.DBSCAN.html\"> DBSCAN en scikit-learn</a> jugant amb els paràmetres <i> eps </i> i <i> min_samples </i> per trobar les 2 estructures subjacents (i <i> outliers</i>).\n",
    "</div>"
   ]
  },
  {
   "cell_type": "code",
   "execution_count": null,
   "metadata": {
    "collapsed": true
   },
   "outputs": [],
   "source": []
  },
  {
   "cell_type": "markdown",
   "metadata": {},
   "source": [
    "<div style=\"background-color: #EDF7FF; border-color: #7C9DBF; border-left: 5px solid #7C9DBF; padding: 0.5em;\">\n",
    "<strong> Anàlisi: </strong> Què ha passat? Explica els motius pels quals creus que s'ha produït aquest resultat.\n",
    "</div>"
   ]
  },
  {
   "cell_type": "code",
   "execution_count": null,
   "metadata": {
    "collapsed": true
   },
   "outputs": [],
   "source": []
  },
  {
   "cell_type": "markdown",
   "metadata": {},
   "source": [
    "### 2 c. Més enllà de K-Means: algorismes jeràrquics\n",
    "\n",
    "En aquest apartat es demana visualitzar mitjançant un [dendrograma](https://en.wikipedia.org/wiki/Dendrogram) la construcció progressiva dels grups mitjançant un algorisme jeràrquic aglomeratiu (estratègia *bottom-up*). Amb això es pretén trobar un mètode gràfic per entendre el comportament de l'algorisme i trobar els dos clústers."
   ]
  },
  {
   "cell_type": "markdown",
   "metadata": {},
   "source": [
    "<div style=\"background-color: #EDF7FF; border-color: #7C9DBF; border-left: 5px solid #7C9DBF; padding: 0.5em;\">\n",
    "<strong>Implementació:</strong> prova la implementació de <a href=\"https://docs.scipy.org/doc/scipy/reference/cluster.hierarchy.html\"> clustering jeràrquic de SciPy </a> provant diferents <a href = \"https://en.wikipedia.org/wiki/Hierarchical_clustering#Linkage_criteria\">criteris d'enllaç o <i> linkage </i> </a> permetent identificar els clústers subjacents (mostrant el seu resultat) i la seva dendrograma.\n",
    "</div>"
   ]
  },
  {
   "cell_type": "code",
   "execution_count": null,
   "metadata": {
    "collapsed": true
   },
   "outputs": [],
   "source": []
  },
  {
   "cell_type": "markdown",
   "metadata": {},
   "source": [
    "<div style=\"background-color: #EDF7FF; border-color: #7C9DBF; border-left: 5px solid #7C9DBF; padding: 0.5em;\">\n",
    "<strong>Anàlisi: </strong> Interpreta el dendrograma i comenta quin criteri d'enllaç s'ha comportat millor. Per què?\n",
    "</div>"
   ]
  },
  {
   "cell_type": "code",
   "execution_count": null,
   "metadata": {
    "collapsed": true
   },
   "outputs": [],
   "source": []
  },
  {
   "cell_type": "markdown",
   "metadata": {},
   "source": [
    "<div style=\"background-color: #EDF7FF; border-color: #7C9DBF; border-left: 5px solid #7C9DBF; padding: 0.5em;\">\n",
    "<strong>Anàlisi: </strong> Què ha passat? Explica els motius pels quals creus que s'ha produït aquest resultat.\n",
    "</div>"
   ]
  },
  {
   "cell_type": "code",
   "execution_count": null,
   "metadata": {
    "collapsed": true
   },
   "outputs": [],
   "source": []
  },
  {
   "cell_type": "markdown",
   "metadata": {},
   "source": [
    "### 2 d. *Feature engineering* i agrupament\n",
    "\n",
    "Alguns dels algorismes anteriors es basen en unes suposicions que no complien al conjunt de dades. Moltes vegades enlloc d'optar per algorismes més complexes o que requereixen més còmput, es poden transformar les dades per poder aplicar amb èxit tècniques més senzilles. Això és un clar exemple de *feature engineering*.\n",
    "\n",
    "<br>\n",
    "<div style=\"background-color: #EDF7FF; border-color: #7C9DBF; border-left: 5px solid #7C9DBF; padding: 0.5em;\">\n",
    "<strong>Implementació:</strong> transforma els punts anteriors del conjunt de dades a un nou espai de 2 dimensions:\n",
    "<ul>\n",
    "<li> Ràdio, o distància al punt (0,0)\n",
    "<li> Angle, pel que fa al vector (1,0)\n",
    "</ul>\n",
    "Perquè totes les dimensions tinguin el mateix pes, <a href=\"http://scikit-learn.org/stable/modules/generated/sklearn.preprocessing.MinMaxScaler.html\"> normalitzarem entre 0 i 1 d'acord al seu màxim i mínim </a>.\n",
    "<br>\n",
    "Visualitzar els punts del \"nou\" conjunt de dades.\n",
    "</div>"
   ]
  },
  {
   "cell_type": "code",
   "execution_count": null,
   "metadata": {
    "collapsed": true
   },
   "outputs": [],
   "source": []
  },
  {
   "cell_type": "markdown",
   "metadata": {},
   "source": [
    "<div style=\"background-color: #EDF7FF; border-color: #7C9DBF; border-left: 5px solid #7C9DBF; padding: 0.5em;\">\n",
    "<strong>Anàlisi: </strong> Què creus que succeirà en aplicar els anteriors algorismes en aquest \"nou\" conjunt de dades?\n",
    "</div>"
   ]
  },
  {
   "cell_type": "code",
   "execution_count": null,
   "metadata": {
    "collapsed": true
   },
   "outputs": [],
   "source": []
  },
  {
   "cell_type": "markdown",
   "metadata": {},
   "source": [
    "<div style=\"background-color: #EDF7FF; border-color: #7C9DBF; border-left: 5px solid #7C9DBF; padding: 0.5em;\">\n",
    "<strong>Implementació:</strong> aplica cada un dels algorismes d'agrupament anteriors que no hagin pogut localitzar adequadament els dos clústers originals per intentar trobar-los en aquest \"nou\" espai. Ajusta els paràmetres necessaris per facilitar la seva detecció.\n",
    "<br><br>\n",
    "Per a cada algorisme, visualitza els clústers trobats en 2 imatges:\n",
    "<ul>\n",
    "<li> En el \"nou\" espai (ràdio i angle).\n",
    "<li> A l'espai original (posició x i y), però NO amb les etiquetes (pertinença al clúster) obtingudes en aplicar els algorismes sobre el conjunt de dades original, sinó amb les etiquetes obtingudes al realitzar el clustering en el \"nou\" espai. A veure si així s'aconsegueixen solucionar els problemes inicials.\n",
    "</ul>\n",
    "</div>"
   ]
  },
  {
   "cell_type": "code",
   "execution_count": null,
   "metadata": {
    "collapsed": true
   },
   "outputs": [],
   "source": []
  },
  {
   "cell_type": "markdown",
   "metadata": {},
   "source": [
    "## 3. Optimizació amb reducció de dimensionalitat: t-SNE (1 punt)\n",
    "\n",
    "Com ja s'ha vist, l'algorisme [t-SNE](https://en.wikipedia.org/wiki/T-distributed_stochastic_neighbor_embedding) ideat per [van der Maaten i Hinton](https://lvdmaaten.github.io/tsne/) difereix de PCA en què no tracta de maximitzar la variància explicada. Intuïtivament, t-SNE tracta de que el veïnatge d'un punt en baixa dimensionalitat sigui el mateix que l'original (mantingui les distàncies). Partint d'una localització aleatòria de cada punt, corregeix la seva posició de forma iterativa tractant de minimitzar la distància als seus veïns originals fins a convergir.\n",
    "\n",
    "Per a això, t-SNE disposa de diversos [paràmetres](https://distill.pub/2016/misread-tsne/) que poden modificar dràsticament el resultat. Pel que es recomana conèixer el seu funcionament abans d'aplicar la tècnica.\n",
    "\n",
    "Partint de les distàncies entre les [províncies de la península ibèrica](https://www.gifex.com/images/0X0/2009-12-02-11305/Provincias_de_Espana.jpg), presents en el fitxer de dades (a *pec2_2.p* un *DataFrame* de *pandas* en format *pickle* o *pec2_2.csv* en format *CSV*). Es demana calcular la matriu quadrada que contingui la distància de cada província contra les altres."
   ]
  },
  {
   "cell_type": "markdown",
   "metadata": {},
   "source": [
    "<div style=\"background-color: #EDF7FF; border-color: #7C9DBF; border-left: 5px solid #7C9DBF; padding: 0.5em;\">\n",
    "<strong>Implementació:</strong> la matriu ha de tenir tantes files i columnes com províncies. I cada cel·la ha de contenir la distància entre les províncies d'aquesta fila i columna.\n",
    "</div>"
   ]
  },
  {
   "cell_type": "code",
   "execution_count": null,
   "metadata": {},
   "outputs": [],
   "source": []
  },
  {
   "cell_type": "markdown",
   "metadata": {},
   "source": [
    "Una vegada que es compta amb la matriu de distàncies, *t-SNE* intentarà mantenir aquestes distàncies entre els diferents punts en baixa dimensionalitat (en aquest cas 2 dimensions). Emplaçant els punts en el pla mentre intenta mantenir les distàncies indicades.\n",
    "\n",
    "Atès que a l'entrada a [*t-SNE*](https://scikit-learn.org/stable/modules/generated/sklearn.manifold.TSNE.html) se li passa la matriu de distàncies, no cal que les calculi. Per això li indicarem que la mètrica a emprar és \"precalculada\".\n",
    "\n",
    "Com *t-SNE* és un algorisme estocàstic (dues execucions consecutives amb les mateixes dades poden conduir a resultats diferents), es demana realitzar el procés d'ajust amb *t-SNE* 100 vegades i quedar-se amb l'execució amb menor error (veure l'atribut [*kl_divergence*](https://scikit-learn.org/stable/modules/generated/sklearn.manifold.TSNE.html))."
   ]
  },
  {
   "cell_type": "markdown",
   "metadata": {},
   "source": [
    "<div style=\"background-color: #EDF7FF; border-color: #7C9DBF; border-left: 5px solid #7C9DBF; padding: 0.5em;\">\n",
    "<strong>Implementació:</strong> jugar amb els hiperparámetres de *t-SNE*, executar 100 vegades l'ajust de *t-SNE* i guardar el resultat d'emplaçament de províncies en el pla de l'execució amb menor error.\n",
    "</div>"
   ]
  },
  {
   "cell_type": "code",
   "execution_count": null,
   "metadata": {
    "collapsed": true
   },
   "outputs": [],
   "source": []
  },
  {
   "cell_type": "markdown",
   "metadata": {},
   "source": [
    "Una vegada que es tenen les posicions de les províncies en el pla, visualitzar el resultat i analitzar si l'emplaçament de les províncies calculat per *t-SNE* calculat en base a les distàncies s'assembla al real."
   ]
  },
  {
   "cell_type": "markdown",
   "metadata": {},
   "source": [
    "<div style=\"background-color: #EDF7FF; border-color: #7C9DBF; border-left: 5px solid #7C9DBF; padding: 0.5em;\">\n",
    "<strong>Implementació:</strong> visualitzar en un *scatter* les províncies de l'execució amb menor error, juntament amb el seu nom per poder analitzar-lo.\n",
    "</div>"
   ]
  },
  {
   "cell_type": "code",
   "execution_count": null,
   "metadata": {
    "collapsed": true
   },
   "outputs": [],
   "source": []
  },
  {
   "cell_type": "markdown",
   "metadata": {},
   "source": [
    "<div style=\"background-color: #EDF7FF; border-color: #7C9DBF; border-left: 5px solid #7C9DBF; padding: 0.5em;\">\n",
    "<strong>Anàlisi:</strong> ¿s'assembla a la distribució de províncies real? ¿per què?\n",
    "</div>"
   ]
  },
  {
   "cell_type": "code",
   "execution_count": null,
   "metadata": {
    "collapsed": true
   },
   "outputs": [],
   "source": []
  },
  {
   "cell_type": "markdown",
   "metadata": {},
   "source": [
    "## 4. Aplicació: Agrupació de documents (3 punts)\n",
    "\n",
    "### 4 a. Càrrega i neteja de dades\n",
    "\n",
    "En aquest problema es farà servir el conjunt de dades [*20 news group*](https://archive.ics.uci.edu/ml/machine-learning-databases/20newsgroups-mld/20newsgroups.data.html), amb 20 categories de textos, dels quals se seleccionaran 3. L'objectiu és trobar grups de textos (preferiblement de la mateixa categoria) a través de les seves paraules.\n",
    "\n",
    "El primer apartat consisteix a carregar el conjunt de dades i netejar les dades (tasca que normalment té una càrrega entre el 70 i 80% del temps), en aquest cas els textos."
   ]
  },
  {
   "cell_type": "code",
   "execution_count": 4,
   "metadata": {
    "collapsed": true
   },
   "outputs": [],
   "source": [
    "data = datasets.fetch_20newsgroups(categories=['rec.autos', 'rec.sport.baseball', 'soc.religion.christian'])\n",
    "texts, targets = data['data'], data['target']"
   ]
  },
  {
   "cell_type": "markdown",
   "metadata": {},
   "source": [
    "On ```texts``` és una llista amb els articles i ```targets``` és un vector amb l'índex de la categoria a la qual pertany cada text.\n",
    "\n",
    "La neteja de text ha de convertir:"
   ]
  },
  {
   "cell_type": "code",
   "execution_count": 20,
   "metadata": {
    "collapsed": true
   },
   "outputs": [],
   "source": [
    "print(data['data'][1])"
   ]
  },
  {
   "cell_type": "markdown",
   "metadata": {},
   "source": [
    "En quelcom semblant a:\n",
    "\n",
    "```In previous article UUCP wharfie says In article centerline com com Jim Frost writes larger engine That's what the SHO is slightly modified family sedan with powerful engine They didn't even bother improving the *brakes That shows how much you know about anything The brakes on the SHO are very different inch or forget discs all around vented in front The normal Taurus setup is smaller discs front drums rear one saw had vented rears too it was on lot of course the sales man was fool titanium wheels yeah right then later told me they were magnesium more believable but still crap since Al is so uch cheaper and just as good tend to agree tho that this still doesn't take the SHO up to standard for running 130 on regular basis The brakes should be bigger like 11 or so take look at the ones on the Corrados where they have braking regulations DREW```"
   ]
  },
  {
   "cell_type": "markdown",
   "metadata": {},
   "source": [
    "<div style=\"background-color: #EDF7FF; border-color: #7C9DBF; border-left: 5px solid #7C9DBF; padding: 0.5em;\">\n",
    "<strong>Implementació:</strong> neteja els texts d'entrada:\n",
    "<ul>\n",
    "<li> Elimina les línies d'encapçalament.\n",
    "<li> Els signes de puntuació.\n",
    "<li> Els claudàtors, parèntesis i angulars.\n",
    "<li> Els salts de línia.\n",
    "<li> Exclamacions i interrogacions.\n",
    "<li> Els tokens e-mails i de longitud 1.\n",
    "<li> Els espais en blanc consecutius.\n",
    "</ul>\n",
    "</div>"
   ]
  },
  {
   "cell_type": "code",
   "execution_count": null,
   "metadata": {
    "collapsed": true
   },
   "outputs": [],
   "source": []
  },
  {
   "cell_type": "markdown",
   "metadata": {},
   "source": [
    "### 4 b. Conversió de texts a vectors\n",
    "\n",
    "Per trobar grups entre els textos, cal convertir cada text en un vector. Hi ha multitud de maneres de fer-ho, una d'elles és aplicar [TF-IDF](https://en.wikipedia.org/wiki/Tf%E2%80%93idf) amb scikit-learn [TfidfVectorizer](http://scikit-learn.org/stable/modules/generated/sklearn.feature_extraction.text.TfidfVectorizer.html). Transformant la llista de texts en una [matriu dispersa](https://docs.scipy.org/doc/scipy/reference/sparse.html) amb tantes files com articles i tantes columnes com paraules."
   ]
  },
  {
   "cell_type": "markdown",
   "metadata": {},
   "source": [
    "<div style=\"background-color: #EDF7FF; border-color: #7C9DBF; border-left: 5px solid #7C9DBF; padding: 0.5em;\">\n",
    "<strong>Implementació:</strong> transforma els texts a vectores con TF-IDF.\n",
    "\n",
    "Per reduir el nombre de columnes en la matriu evita les *stop words* en anglès i converteix els texts a minúscules.\n",
    "</div>"
   ]
  },
  {
   "cell_type": "code",
   "execution_count": null,
   "metadata": {
    "collapsed": true
   },
   "outputs": [],
   "source": []
  },
  {
   "cell_type": "markdown",
   "metadata": {},
   "source": [
    "### 4 c. Reducció de dimensionalitat\n",
    "\n",
    "Per visualitzar i trobar els grups, es reduirà la dimensionalitat de la matriu anterior. De tal manera que el nombre de columnes es reduirà a 2 (el nombre de files es manté, ja que cada fila és un document)."
   ]
  },
  {
   "cell_type": "markdown",
   "metadata": {},
   "source": [
    "<div style=\"background-color: #EDF7FF; border-color: #7C9DBF; border-left: 5px solid #7C9DBF; padding: 0.5em;\">\n",
    "<strong>Implementació:</strong> utilitza t-SNE per reduir la dimensionalitat de <i> n </i> columnes (paraules) a 2 dimensions. Utilitza un tamany de perplexitat alt per augmentar el veïnatge (al voltant de 100).\n",
    "</div>"
   ]
  },
  {
   "cell_type": "code",
   "execution_count": null,
   "metadata": {
    "collapsed": true
   },
   "outputs": [],
   "source": []
  },
  {
   "cell_type": "markdown",
   "metadata": {},
   "source": [
    "<div style=\"background-color: #EDF7FF; border-color: #7C9DBF; border-left: 5px solid #7C9DBF; padding: 0.5em;\">\n",
    "<strong>Implementació:</strong> visualitza mitjançant un scatter plot els punts en 2 dimensions amb un color per a cada classe.\n",
    "</div>"
   ]
  },
  {
   "cell_type": "code",
   "execution_count": null,
   "metadata": {
    "collapsed": true
   },
   "outputs": [],
   "source": []
  },
  {
   "cell_type": "markdown",
   "metadata": {},
   "source": [
    "### 4 d. Troba els grups d'articles amb diferents algorismes"
   ]
  },
  {
   "cell_type": "markdown",
   "metadata": {},
   "source": [
    "<div style=\"background-color: #EDF7FF; border-color: #7C9DBF; border-left: 5px solid #7C9DBF; padding: 0.5em;\">\n",
    "<strong>Implementació:</strong> utiliza <i>k-means</i> (amb <i>k=3</i>) per intentar trobar els 3 grups d'articles i visualitza el resultat.\n",
    "</div>"
   ]
  },
  {
   "cell_type": "code",
   "execution_count": null,
   "metadata": {
    "collapsed": true
   },
   "outputs": [],
   "source": []
  },
  {
   "cell_type": "markdown",
   "metadata": {},
   "source": [
    "<div style=\"background-color: #EDF7FF; border-color: #7C9DBF; border-left: 5px solid #7C9DBF; padding: 0.5em;\">\n",
    "<strong>Anàlisi:</strong> ha localitzat els 3 grups originals? (el color no té perquè coincidir, només ens importa la forma). Per què?\n",
    "</div>"
   ]
  },
  {
   "cell_type": "code",
   "execution_count": null,
   "metadata": {
    "collapsed": true
   },
   "outputs": [],
   "source": []
  },
  {
   "cell_type": "markdown",
   "metadata": {},
   "source": [
    "Per agrupar els texts procurant situar els centroides en les regions més denses, [Mean-Shift](http://scikit-learn.org/stable/modules/generated/sklearn.cluster.MeanShift.html) segueix un camí des de qualsevol punt de l'espai guiant-se per la densitat de punts fins a assolir un màxim local (dins del seu <i> bandwidth </i>).\n",
    "\n",
    "<br>\n",
    "<div style=\"background-color: #EDF7FF; border-color: #7C9DBF; border-left: 5px solid #7C9DBF; padding: 0.5em;\">\n",
    "<strong>Implementació:</strong> utilitza <i>Mean-Shift</i> (variant en <i>bandwidth</i>) fins a trobar 3 grups i visualitza el resultat.\n",
    "</div>"
   ]
  },
  {
   "cell_type": "code",
   "execution_count": null,
   "metadata": {
    "collapsed": true
   },
   "outputs": [],
   "source": []
  },
  {
   "cell_type": "markdown",
   "metadata": {},
   "source": [
    "<div style=\"background-color: #EDF7FF; border-color: #7C9DBF; border-left: 5px solid #7C9DBF; padding: 0.5em;\">\n",
    "<strong>Anàlisi:</strong> Ha localitzat els 3 grups originals? (el color no té perquè coincidir, només ens importa la forma). Per què?\n",
    "</div>"
   ]
  },
  {
   "cell_type": "code",
   "execution_count": null,
   "metadata": {
    "collapsed": true
   },
   "outputs": [],
   "source": []
  }
 ],
 "metadata": {
  "celltoolbar": "Raw Cell Format",
  "kernelspec": {
   "display_name": "Python 3",
   "language": "python",
   "name": "python3"
  },
  "language_info": {
   "codemirror_mode": {
    "name": "ipython",
    "version": 3
   },
   "file_extension": ".py",
   "mimetype": "text/x-python",
   "name": "python",
   "nbconvert_exporter": "python",
   "pygments_lexer": "ipython3",
   "version": "3.4.3"
  }
 },
 "nbformat": 4,
 "nbformat_minor": 2
}
